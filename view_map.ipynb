{
 "cells": [
  {
   "cell_type": "code",
   "execution_count": null,
   "metadata": {
    "vscode": {
     "languageId": "plaintext"
    }
   },
   "outputs": [],
   "source": [
    "import numpy as np\n",
    "\n",
    "import matplotlib.pyplot as plt\n",
    "\n",
    "# Function to read a 2D array from a text file\n",
    "def read_2d_array(file_path):\n",
    "    return np.loadtxt(file_path)\n",
    "\n",
    "# Function to display the 2D array as a graph\n",
    "def display_graph(array):\n",
    "    plt.imshow(array, cmap='viridis', interpolation='none')\n",
    "    plt.colorbar()\n",
    "    plt.title('2D Array Graph')\n",
    "    plt.show()\n",
    "\n",
    "file_path = 'map.txt'  # Replace with your file path\n",
    "array = read_2d_array(file_path)\n",
    "display_graph(array)"
   ]
  }
 ],
 "metadata": {
  "language_info": {
   "name": "python"
  }
 },
 "nbformat": 4,
 "nbformat_minor": 2
}
